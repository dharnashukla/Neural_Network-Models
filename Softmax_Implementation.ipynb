{
  "nbformat": 4,
  "nbformat_minor": 0,
  "metadata": {
    "colab": {
      "name": "Softmax Pytorch",
      "provenance": []
    },
    "kernelspec": {
      "name": "python3",
      "display_name": "Python 3"
    }
  },
  "cells": [
    {
      "cell_type": "code",
      "metadata": {
        "id": "8O8r4GVw_FYF",
        "colab_type": "code",
        "colab": {}
      },
      "source": [
        "import torch\n",
        "from torch.autograd import Variable\n",
        "import torchvision.transforms as transforms\n",
        "import torchvision.datasets as dsets\n",
        "import torch.nn as nn\n",
        "import matplotlib.pyplot as plt"
      ],
      "execution_count": 0,
      "outputs": []
    },
    {
      "cell_type": "code",
      "metadata": {
        "id": "batHgJDcCuPp",
        "colab_type": "code",
        "colab": {}
      },
      "source": [
        "X = dsets.MNIST(root='./data', train=True, transform=transforms.ToTensor(), download=True)\n",
        "Y = dsets.MNIST(root='./data', train=False, transform=transforms.ToTensor())"
      ],
      "execution_count": 0,
      "outputs": []
    },
    {
      "cell_type": "code",
      "metadata": {
        "id": "XL6gUvu2C71x",
        "colab_type": "code",
        "colab": {}
      },
      "source": [
        "batch_size = 100\n",
        "num_iters = 10000\n",
        "epochs = num_iters / (len(X) / batch_size)\n",
        "input_shape = 784\n",
        "output_shape = 10\n",
        "lr= 0.01"
      ],
      "execution_count": 0,
      "outputs": []
    },
    {
      "cell_type": "code",
      "metadata": {
        "id": "8WeHQCY9C27G",
        "colab_type": "code",
        "colab": {}
      },
      "source": [
        "train_loader = torch.utils.data.DataLoader(dataset=X, batch_size=batch_size, shuffle=True)\n",
        "test_loader = torch.utils.data.DataLoader(dataset=Y, batch_size=batch_size, shuffle=False)"
      ],
      "execution_count": 0,
      "outputs": []
    },
    {
      "cell_type": "code",
      "metadata": {
        "id": "2pOMS-spC5nf",
        "colab_type": "code",
        "colab": {}
      },
      "source": [
        "class LogisticRegression(torch.nn.Module):\n",
        "    def __init__(self, input_dim, output_dim):\n",
        "        super(LogisticRegression, self).__init__()\n",
        "        self.linear = torch.nn.Linear(input_dim, output_dim)\n",
        "\n",
        "    def forward(self, x):\n",
        "        outputs = self.linear(x)\n",
        "        return outputs"
      ],
      "execution_count": 0,
      "outputs": []
    },
    {
      "cell_type": "code",
      "metadata": {
        "id": "XCHjF_MEDABu",
        "colab_type": "code",
        "colab": {}
      },
      "source": [
        "model = LogisticRegression(input_shape, output_shape)\n",
        "criterion = torch.nn.CrossEntropyLoss() # computes softmax and then the cross entropy\n",
        "optimizer = torch.optim.SGD(model.parameters(), lr=lr)"
      ],
      "execution_count": 0,
      "outputs": []
    },
    {
      "cell_type": "code",
      "metadata": {
        "id": "eMxprEJEDJY1",
        "colab_type": "code",
        "outputId": "b12d6537-33fa-4baf-b81a-68322cfc8fb8",
        "colab": {
          "base_uri": "https://localhost:8080/",
          "height": 340
        }
      },
      "source": [
        "iter = 0\n",
        "\n",
        "for epoch in range(int(epochs)):\n",
        "    for i, (images, labels) in enumerate(train_loader):\n",
        "        images = Variable(images.view(-1, 28 * 28))\n",
        "        labels = Variable(labels)\n",
        "\n",
        "        optimizer.zero_grad()\n",
        "        outputs = model(images)\n",
        "        loss = criterion(outputs, labels)\n",
        "        loss.backward()\n",
        "        optimizer.step()\n",
        "\n",
        "        iter+=1\n",
        "        if iter%500==0:\n",
        "            # calculate Accuracy\n",
        "            correct_pred = 0\n",
        "            total = 0\n",
        "            for images, labels in test_loader:\n",
        "                images = Variable(images.view(-1, 28*28))\n",
        "                outputs = model(images)\n",
        "                _, predicted = torch.max(outputs.data, 1)\n",
        "                total+= labels.size(0)\n",
        "                # for gpu, bring the predicted and labels back to cpu fro python operations to work\n",
        "                correct_pred+= (predicted == labels).sum()\n",
        "            accuracy = 100 *  correct_pred/total\n",
        "            print(\"Iteration: {}. Loss: {}. Accuracy: {}.\".format(iter, loss.item(), accuracy))\n"
      ],
      "execution_count": 0,
      "outputs": [
        {
          "output_type": "stream",
          "text": [
            "Iteration: 500. Loss: 0.9029126763343811. Accuracy: 84.\n",
            "Iteration: 1000. Loss: 0.5333800911903381. Accuracy: 86.\n",
            "Iteration: 1500. Loss: 0.5512174963951111. Accuracy: 87.\n",
            "Iteration: 2000. Loss: 0.41445162892341614. Accuracy: 88.\n",
            "Iteration: 2500. Loss: 0.46931880712509155. Accuracy: 88.\n",
            "Iteration: 3000. Loss: 0.47235268354415894. Accuracy: 89.\n",
            "Iteration: 3500. Loss: 0.4298802316188812. Accuracy: 89.\n",
            "Iteration: 4000. Loss: 0.394001841545105. Accuracy: 89.\n",
            "Iteration: 4500. Loss: 0.5294543504714966. Accuracy: 89.\n",
            "Iteration: 5000. Loss: 0.40808582305908203. Accuracy: 90.\n",
            "Iteration: 5500. Loss: 0.6284634470939636. Accuracy: 90.\n",
            "Iteration: 6000. Loss: 0.40419092774391174. Accuracy: 90.\n",
            "Iteration: 6500. Loss: 0.34613102674484253. Accuracy: 90.\n",
            "Iteration: 7000. Loss: 0.2553849220275879. Accuracy: 90.\n",
            "Iteration: 7500. Loss: 0.4022524356842041. Accuracy: 90.\n",
            "Iteration: 8000. Loss: 0.334261029958725. Accuracy: 90.\n",
            "Iteration: 8500. Loss: 0.42606163024902344. Accuracy: 90.\n",
            "Iteration: 9000. Loss: 0.3992457091808319. Accuracy: 90.\n",
            "Iteration: 9500. Loss: 0.42606207728385925. Accuracy: 90.\n"
          ],
          "name": "stdout"
        }
      ]
    },
    {
      "cell_type": "code",
      "metadata": {
        "id": "wCubqFbyk7RD",
        "colab_type": "code",
        "colab": {}
      },
      "source": [
        "train_loader = torch.utils.data.DataLoader(dataset=X, batch_size=batch_size, shuffle=True)\n",
        "test_loader = torch.utils.data.DataLoader(dataset=Y, batch_size=batch_size, shuffle=False)"
      ],
      "execution_count": 0,
      "outputs": []
    },
    {
      "cell_type": "code",
      "metadata": {
        "id": "csF_ht1ODM-Z",
        "colab_type": "code",
        "colab": {}
      },
      "source": [
        "# drop-out softmax\n",
        "\n",
        "class LogisticRegression(torch.nn.Module):\n",
        "    def __init__(self, input_dim, output_dim ):\n",
        "        super(LogisticRegression, self).__init__()\n",
        "        self.drop_layer = nn.Dropout(0.1)\n",
        "        self.linear = torch.nn.Linear(input_dim, output_dim)\n",
        "\n",
        "    def forward(self, x):\n",
        "        x =  self.drop_layer(x)\n",
        "        outputs = self.linear(x)\n",
        "        return outputs"
      ],
      "execution_count": 0,
      "outputs": []
    },
    {
      "cell_type": "code",
      "metadata": {
        "id": "x6E7_mYvI6Kz",
        "colab_type": "code",
        "colab": {}
      },
      "source": [
        "batch_size = 100\n",
        "n_iters = 10000\n",
        "epochs = n_iters / (len(X) / batch_size)\n",
        "input_dim = 784\n",
        "output_dim = 10\n",
        "lr_rate = 0.01"
      ],
      "execution_count": 0,
      "outputs": []
    },
    {
      "cell_type": "code",
      "metadata": {
        "id": "6X3uiMhUJVQR",
        "colab_type": "code",
        "colab": {}
      },
      "source": [
        "model = LogisticRegression(input_dim, output_dim)\n",
        "criterion = torch.nn.CrossEntropyLoss() # computes softmax and then the cross entropy\n",
        "optimizer = torch.optim.SGD(model.parameters(), lr=lr_rate)"
      ],
      "execution_count": 0,
      "outputs": []
    },
    {
      "cell_type": "code",
      "metadata": {
        "id": "xQ7mc86VJul1",
        "colab_type": "code",
        "outputId": "532c5ecb-eb6f-400d-d496-952ffa69114c",
        "colab": {
          "base_uri": "https://localhost:8080/",
          "height": 340
        }
      },
      "source": [
        "iter = 0\n",
        "for epoch in range(int(epochs)):\n",
        "    for i, (images, labels) in enumerate(train_loader):\n",
        "        images = Variable(images.view(-1, 28 * 28))\n",
        "        labels = Variable(labels)\n",
        "\n",
        "        optimizer.zero_grad()\n",
        "        outputs = model(images)\n",
        "        loss = criterion(outputs, labels)\n",
        "        loss.backward()\n",
        "        optimizer.step()\n",
        "\n",
        "        iter+=1\n",
        "        if iter%500==0:\n",
        "            # calculate Accuracy\n",
        "            correct = 0\n",
        "            total = 0\n",
        "            for images, labels in test_loader:\n",
        "                images = Variable(images.view(-1, 28*28))\n",
        "                outputs = model(images)\n",
        "                _, predicted = torch.max(outputs.data, 1)\n",
        "                total+= labels.size(0)\n",
        "                # for gpu, bring the predicted and labels back to cpu fro python operations to work\n",
        "                correct+= (predicted == labels).sum()\n",
        "            accuracy = 100 * correct/total\n",
        "            print(\"Iteration: {}. Loss: {}. Accuracy: {}.\".format(iter, loss.item(), accuracy))"
      ],
      "execution_count": 0,
      "outputs": [
        {
          "output_type": "stream",
          "text": [
            "Iteration: 500. Loss: 0.734223484992981. Accuracy: 84.\n",
            "Iteration: 1000. Loss: 0.4490509033203125. Accuracy: 86.\n",
            "Iteration: 1500. Loss: 0.6070087552070618. Accuracy: 87.\n",
            "Iteration: 2000. Loss: 0.5976499319076538. Accuracy: 88.\n",
            "Iteration: 2500. Loss: 0.4065321981906891. Accuracy: 88.\n",
            "Iteration: 3000. Loss: 0.49283477663993835. Accuracy: 88.\n",
            "Iteration: 3500. Loss: 0.48267653584480286. Accuracy: 89.\n",
            "Iteration: 4000. Loss: 0.3322940468788147. Accuracy: 89.\n",
            "Iteration: 4500. Loss: 0.536680281162262. Accuracy: 89.\n",
            "Iteration: 5000. Loss: 0.4599875509738922. Accuracy: 89.\n",
            "Iteration: 5500. Loss: 0.4347759485244751. Accuracy: 89.\n",
            "Iteration: 6000. Loss: 0.3145642578601837. Accuracy: 89.\n",
            "Iteration: 6500. Loss: 0.32181400060653687. Accuracy: 90.\n",
            "Iteration: 7000. Loss: 0.45731139183044434. Accuracy: 90.\n",
            "Iteration: 7500. Loss: 0.28929033875465393. Accuracy: 90.\n",
            "Iteration: 8000. Loss: 0.25028419494628906. Accuracy: 90.\n",
            "Iteration: 8500. Loss: 0.3514789342880249. Accuracy: 90.\n",
            "Iteration: 9000. Loss: 0.5120058655738831. Accuracy: 90.\n",
            "Iteration: 9500. Loss: 0.22242741286754608. Accuracy: 90.\n"
          ],
          "name": "stdout"
        }
      ]
    },
    {
      "cell_type": "code",
      "metadata": {
        "id": "bJ_q-2PyJ_jS",
        "colab_type": "code",
        "colab": {}
      },
      "source": [
        "# batch Normalization \n",
        "\n",
        "class LogisticRegression(torch.nn.Module):\n",
        "    def __init__(self, input_dim, output_dim ):\n",
        "        super(LogisticRegression, self).__init__()\n",
        "        self.batch_input = nn.BatchNorm1d(784, momentum=0.5)\n",
        "        self.linear = torch.nn.Linear(input_dim, output_dim)\n",
        "\n",
        "    def forward(self, x):\n",
        "        x =  self.batch_input(x)\n",
        "        outputs = self.linear(x)\n",
        "        return outputs"
      ],
      "execution_count": 0,
      "outputs": []
    },
    {
      "cell_type": "code",
      "metadata": {
        "id": "usr2SwgJnHPT",
        "colab_type": "code",
        "colab": {}
      },
      "source": [
        "batch_size = 100\n",
        "n_iters = 10000\n",
        "epochs = n_iters / (len(X) / batch_size)\n",
        "input_dim = 784\n",
        "output_dim = 10\n",
        "lr_rate = 0.01"
      ],
      "execution_count": 0,
      "outputs": []
    },
    {
      "cell_type": "code",
      "metadata": {
        "id": "q_SRgy8bnOa5",
        "colab_type": "code",
        "colab": {}
      },
      "source": [
        "model = LogisticRegression(input_dim, output_dim)\n",
        "criterion = torch.nn.CrossEntropyLoss() # computes softmax and then the cross entropy\n",
        "optimizer = torch.optim.SGD(model.parameters(), lr=lr_rate)"
      ],
      "execution_count": 0,
      "outputs": []
    },
    {
      "cell_type": "code",
      "metadata": {
        "id": "ZOKIOaDunQdO",
        "colab_type": "code",
        "outputId": "9654bd1f-d32f-461c-92cf-95fbc58a0315",
        "colab": {
          "base_uri": "https://localhost:8080/",
          "height": 340
        }
      },
      "source": [
        "iter = 0\n",
        "for epoch in range(int(epochs)):\n",
        "    for i, (images, labels) in enumerate(train_loader):\n",
        "        images = Variable(images.view(-1, 28 * 28))\n",
        "        labels = Variable(labels)\n",
        "\n",
        "        optimizer.zero_grad()\n",
        "        outputs = model(images)\n",
        "        loss = criterion(outputs, labels)\n",
        "        loss.backward()\n",
        "        optimizer.step()\n",
        "\n",
        "        iter+=1\n",
        "        if iter%500==0:\n",
        "            # calculate Accuracy\n",
        "            correct = 0\n",
        "            total = 0\n",
        "            for images, labels in test_loader:\n",
        "                images = Variable(images.view(-1, 28*28))\n",
        "                outputs = model(images)\n",
        "                _, predicted = torch.max(outputs.data, 1)\n",
        "                total+= labels.size(0)\n",
        "                # for gpu, bring the predicted and labels back to cpu fro python operations to work\n",
        "                correct+= (predicted == labels).sum()\n",
        "            accuracy = 100 * correct/total\n",
        "            print(\"Iteration: {}. Loss: {}. Accuracy: {}.\".format(iter, loss.item(), accuracy))"
      ],
      "execution_count": 0,
      "outputs": [
        {
          "output_type": "stream",
          "text": [
            "Iteration: 500. Loss: 0.5866499543190002. Accuracy: 89.\n",
            "Iteration: 1000. Loss: 0.27069589495658875. Accuracy: 90.\n",
            "Iteration: 1500. Loss: 0.2748509645462036. Accuracy: 90.\n",
            "Iteration: 2000. Loss: 0.22456291317939758. Accuracy: 91.\n",
            "Iteration: 2500. Loss: 0.369111567735672. Accuracy: 91.\n",
            "Iteration: 3000. Loss: 0.35691696405410767. Accuracy: 91.\n",
            "Iteration: 3500. Loss: 0.32089129090309143. Accuracy: 91.\n",
            "Iteration: 4000. Loss: 0.5862687826156616. Accuracy: 91.\n",
            "Iteration: 4500. Loss: 0.45902347564697266. Accuracy: 91.\n",
            "Iteration: 5000. Loss: 0.318401575088501. Accuracy: 91.\n",
            "Iteration: 5500. Loss: 0.3324511647224426. Accuracy: 91.\n",
            "Iteration: 6000. Loss: 0.4260231852531433. Accuracy: 92.\n",
            "Iteration: 6500. Loss: 0.36259472370147705. Accuracy: 92.\n",
            "Iteration: 7000. Loss: 0.2944040596485138. Accuracy: 92.\n",
            "Iteration: 7500. Loss: 0.2691395878791809. Accuracy: 92.\n",
            "Iteration: 8000. Loss: 0.44103360176086426. Accuracy: 92.\n",
            "Iteration: 8500. Loss: 0.2758549451828003. Accuracy: 92.\n",
            "Iteration: 9000. Loss: 0.1820686161518097. Accuracy: 92.\n",
            "Iteration: 9500. Loss: 0.20602647960186005. Accuracy: 92.\n"
          ],
          "name": "stdout"
        }
      ]
    },
    {
      "cell_type": "code",
      "metadata": {
        "id": "wjm6z7Ujlf_8",
        "colab_type": "code",
        "colab": {}
      },
      "source": [
        ""
      ],
      "execution_count": 0,
      "outputs": []
    }
  ]
}